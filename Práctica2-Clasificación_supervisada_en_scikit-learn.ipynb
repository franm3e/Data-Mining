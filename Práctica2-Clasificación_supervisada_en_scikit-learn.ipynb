{
 "cells": [
  {
   "cell_type": "markdown",
   "metadata": {},
   "source": [
    "# Práctica 2 - Clasificación supervisada en scikit-learn"
   ]
  },
  {
   "cell_type": "markdown",
   "metadata": {},
   "source": [
    "## Minería de Datos 2017/2018 - Francisco Martínez Esteso"
   ]
  },
  {
   "cell_type": "markdown",
   "metadata": {},
   "source": [
    "---"
   ]
  },
  {
   "cell_type": "markdown",
   "metadata": {},
   "source": [
    "# Indice de Contenido"
   ]
  },
  {
   "cell_type": "markdown",
   "metadata": {},
   "source": [
    "* [Introducción](#Introducción)"
   ]
  },
  {
   "cell_type": "markdown",
   "metadata": {},
   "source": [
    "---\n",
    "# Introducción"
   ]
  },
  {
   "cell_type": "markdown",
   "metadata": {},
   "source": []
  },
  {
   "cell_type": "markdown",
   "metadata": {},
   "source": [
    "---\n",
    "## Paquetes y librerías"
   ]
  },
  {
   "cell_type": "markdown",
   "metadata": {},
   "source": [
    "Cargamos previamente todos los paquetes y librarías necesarios:"
   ]
  },
  {
   "cell_type": "code",
   "execution_count": null,
   "metadata": {},
   "outputs": [],
   "source": [
    "import numpy as np\n",
    "import pandas as pd\n",
    "from scipy import stats, integrate\n",
    "import matplotlib as mpl\n",
    "import matplotlib.pyplot as plt\n",
    "from sklearn.model_selection import train_test_split\n",
    "\n",
    "import seaborn as sns\n",
    "sns.set(color_codes=True)\n",
    "\n",
    "# GridSearch\n",
    "from sklearn.model_selection import GridSearchCV\n",
    "\n",
    "# KNN\n",
    "from sklearn import neighbors\n",
    "\n",
    "# Metrics\n",
    "import sklearn.metrics as metrics"
   ]
  },
  {
   "cell_type": "code",
   "execution_count": null,
   "metadata": {},
   "outputs": [],
   "source": [
    "%matplotlib inline\n",
    "mpl.rcParams[\"figure.figsize\"] = \"8, 4\"\n",
    "import warnings\n",
    "warnings.simplefilter(\"ignore\")"
   ]
  },
  {
   "cell_type": "markdown",
   "metadata": {},
   "source": [
    "---\n",
    "## Carga de datos"
   ]
  },
  {
   "cell_type": "markdown",
   "metadata": {},
   "source": [
    "Definimos una semilla inicial, la cual nos será útil para hacer **reproducibles** nuestros experimentos:"
   ]
  },
  {
   "cell_type": "code",
   "execution_count": null,
   "metadata": {},
   "outputs": [],
   "source": [
    "seed = 6342\n",
    "np.random.seed(6342)"
   ]
  },
  {
   "cell_type": "markdown",
   "metadata": {},
   "source": [
    "Ahora importamos los **datasets** disponibles en campusvirtual y los separamos en conjuntos de train y test:"
   ]
  },
  {
   "cell_type": "code",
   "execution_count": null,
   "metadata": {},
   "outputs": [],
   "source": [
    "df = pd.read_csv(\"./data/pima.csv\", dtype={ \"label\": 'category'})\n",
    "dfAttributes = df.drop('label', 1)\n",
    "dfLabel = df['label']"
   ]
  },
  {
   "cell_type": "code",
   "execution_count": null,
   "metadata": {},
   "outputs": [],
   "source": [
    "from sklearn.model_selection import train_test_split\n",
    "train_atts, test_atts, train_label, test_label = train_test_split( \n",
    "    dfAttributes,\n",
    "    dfLabel,\n",
    "    test_size=0.2,\n",
    "    random_state=seed,\n",
    "    stratify=dfLabel)"
   ]
  },
  {
   "cell_type": "code",
   "execution_count": null,
   "metadata": {},
   "outputs": [],
   "source": [
    "def definirDataset(datasetname):\n",
    "    df = pd.read_csv(\"./data/\"+datasetname+\".csv\", dtype={ \"label\": 'category'})\n",
    "    dfAttributes = df.drop('label', 1)\n",
    "    dfLabel = df['label']\n",
    "    \n",
    "    train_atts, test_atts, train_label, test_label = train_test_split( \n",
    "    dfAttributes,\n",
    "    dfLabel,\n",
    "    test_size=0.2,\n",
    "    random_state=seed,\n",
    "    stratify=dfLabel)\n",
    "    \n",
    "    return train_atts, test_atts, train_label, test_label"
   ]
  },
  {
   "cell_type": "code",
   "execution_count": null,
   "metadata": {},
   "outputs": [],
   "source": [
    "definirDataset(\"pima\")\n"
   ]
  },
  {
   "cell_type": "markdown",
   "metadata": {},
   "source": [
    "---\n",
    "# GridSearch"
   ]
  },
  {
   "cell_type": "markdown",
   "metadata": {},
   "source": [
    "El algoritmo de **GridSearch** recibe un grid o cuadro de parámetros y nos permite realizar una búsqueda exhaustiva evaluando mediante validación cruzada todas las posibles combinaciones existentes.\n",
    "El esquema de parametrización de GridSearch es el siguiente:\n",
    "```\n",
    "GridSearchCV(\n",
    "    estimator # El algoritmo de aprendizaje a optimizar \n",
    "    param_grid # Un diccionario con los nombres de los parámetros y los valores a considerar\n",
    "    scoring  # La métrica a optimizar\n",
    "    cv # Numero de folds en la validación cruzada\n",
    ")\n",
    "```"
   ]
  },
  {
   "cell_type": "markdown",
   "metadata": {},
   "source": [
    "## Clasificador KNN"
   ]
  },
  {
   "cell_type": "markdown",
   "metadata": {},
   "source": [
    "**KNN** es un método de clasificación sencillo de entender, ya que solo tiene un parámetro **k** que determina el número de vecinos con los que compararemos.\n",
    "Podemos ver un esquema de su parametrización a continuación:\n",
    "```\n",
    "neighbors.KNeighborsClassifier(\n",
    "    n_neighbors # numero de vecinos en la clasificación\n",
    ")\n",
    "```"
   ]
  },
  {
   "cell_type": "markdown",
   "metadata": {},
   "source": [
    "Implementamos por tanto un proceso de validación cruzada de ... folds para optimizar el valor de k en el algoritmo KNN."
   ]
  },
  {
   "cell_type": "code",
   "execution_count": null,
   "metadata": {},
   "outputs": [],
   "source": [
    "clf = GridSearchCV(\n",
    "    estimator = neighbors.KNeighborsClassifier(),\n",
    "    param_grid = { 'n_neighbors' : [1,2,3,4,5] },\n",
    "    scoring = 'accuracy',\n",
    "    cv = 10\n",
    ")\n",
    "\n",
    "fitted = clf.fit(train_atts, train_label)"
   ]
  },
  {
   "cell_type": "code",
   "execution_count": null,
   "metadata": {},
   "outputs": [],
   "source": [
    "fitted.best_params_"
   ]
  },
  {
   "cell_type": "code",
   "execution_count": null,
   "metadata": {},
   "outputs": [],
   "source": [
    "# Get the mean score for each cv\n",
    "means = fitted.cv_results_['mean_test_score']\n",
    "# Get the sd score for each cv\n",
    "stds = fitted.cv_results_['std_test_score']\n",
    "# Get each specific configuration\n",
    "conf = fitted.cv_results_['params']\n",
    "\n",
    "# Print the three things togheter\n",
    "for mean, std, params in zip(means, stds, conf):\n",
    "    print(\"%0.3f (+/-%0.03f) for %r\"\n",
    "          % (mean, std * 2, params))"
   ]
  },
  {
   "cell_type": "code",
   "execution_count": null,
   "metadata": {},
   "outputs": [],
   "source": [
    "prediction = clf.predict(test_atts)"
   ]
  },
  {
   "cell_type": "code",
   "execution_count": null,
   "metadata": {},
   "outputs": [],
   "source": [
    "metrics.confusion_matrix(test_label, prediction)"
   ]
  },
  {
   "cell_type": "code",
   "execution_count": null,
   "metadata": {},
   "outputs": [],
   "source": [
    "metrics.accuracy_score(test_label, prediction)"
   ]
  },
  {
   "cell_type": "code",
   "execution_count": null,
   "metadata": {},
   "outputs": [],
   "source": [
    "def KNNgridSearchCV(datasetname):\n",
    "    \n",
    "    definirDataset(datasetname)\n",
    "    \n",
    "    clf = GridSearchCV(\n",
    "        estimator = neighbors.KNeighborsClassifier(),\n",
    "        param_grid = { 'n_neighbors' : [1,2,3,4,5] },\n",
    "        scoring = 'accuracy',\n",
    "        cv = 10\n",
    "    )\n",
    "    \n",
    "    fitted = clf.fit(train_atts, train_label)\n",
    "    \n",
    "    print(fitted.best_params_['n_neighbors'])\n",
    "    print(\"\\n\")\n",
    "    \n",
    "    # Get the mean score for each cv\n",
    "    means = fitted.cv_results_['mean_test_score']\n",
    "    # Get the sd score for each cv\n",
    "    stds = fitted.cv_results_['std_test_score']\n",
    "    # Get each specific configuration\n",
    "    conf = fitted.cv_results_['params']\n",
    "\n",
    "    # Print the three things togheter\n",
    "    for mean, std, params in zip(means, stds, conf):\n",
    "        print(\"%0.3f (+/-%0.03f) for %r\"\n",
    "            % (mean, std * 2, params))\n",
    "    print(\"\\n\")\n",
    "        \n",
    "    prediction = clf.predict(test_atts)\n",
    "    \n",
    "    print(metrics.confusion_matrix(test_label, prediction))\n",
    "    print(\"\\n\")\n",
    "    print(metrics.accuracy_score(test_label, prediction))"
   ]
  },
  {
   "cell_type": "code",
   "execution_count": null,
   "metadata": {},
   "outputs": [],
   "source": [
    "def pintar():\n",
    "    model = neighbors.KNeighborsClassifier(5)\n",
    "    classifierPrintBoundaries(model, train_atts, train_label, test_atts, test_label)  "
   ]
  },
  {
   "cell_type": "code",
   "execution_count": null,
   "metadata": {},
   "outputs": [],
   "source": [
    "KNNgridSearchCV(\"iris\")\n",
    "pintar()"
   ]
  },
  {
   "cell_type": "code",
   "execution_count": null,
   "metadata": {},
   "outputs": [],
   "source": [
    "def classifierPrintBoundaries(model, train_atts, train_label, test_atts, test_label):\n",
    "\n",
    "    attsPair = [ (x,y) for x in train_atts.columns for y in train_atts.columns if x != y]\n",
    "    \n",
    "    for (att1_name, att2_name) in attsPair:\n",
    "        \n",
    "        xx, yy = np.meshgrid(np.arange(min(train_atts[att1_name])-1, max(train_atts[att1_name])+1, 0.05),\n",
    "                             np.arange(min(train_atts[att2_name])-1, max(train_atts[att2_name])+1, 0.05))\n",
    "\n",
    "        mesh = pd.DataFrame({ 'x' : xx.ravel(), 'y' : yy.ravel() })\n",
    "        \n",
    "        cls = model.fit(train_atts[[att1_name, att2_name]], train_label)\n",
    "\n",
    "        Z = cls.predict(mesh)\n",
    "        mesh = mesh.assign( label = pd.Categorical(Z, categories=train_label.cat.categories) )\n",
    "\n",
    "        colors = [\"#4D73AB\",\"#54A86F\",\"#C44D54\"]\n",
    "\n",
    "        mesh = mesh.assign(colors = mesh.label.cat.codes.map(lambda x: colors[x]))\n",
    "        colorBoundary = list(mesh.label.cat.codes.map(lambda x: colors[x]))\n",
    "        colorObservations = list(test_label.cat.codes.map(lambda x: colors[x]))\n",
    "\n",
    "        fig, ax = plt.subplots()\n",
    "        # Plot using Seaborn\n",
    "        sns.regplot(x='x', y='y', data=mesh,\n",
    "                   fit_reg=False, \n",
    "                   scatter_kws={'color': colorBoundary})\n",
    "\n",
    "        sns.regplot(x=att1_name, y=att2_name, data=test_atts,\n",
    "                   fit_reg=False,\n",
    "                   scatter_kws={'color': colorObservations,  'lw': 1, 'edgecolor':'#FFFFFF'})"
   ]
  },
  {
   "cell_type": "code",
   "execution_count": null,
   "metadata": {},
   "outputs": [],
   "source": []
  }
 ],
 "metadata": {
  "kernelspec": {
   "display_name": "Python 3",
   "language": "python",
   "name": "python3"
  },
  "language_info": {
   "codemirror_mode": {
    "name": "ipython",
    "version": 3
   },
   "file_extension": ".py",
   "mimetype": "text/x-python",
   "name": "python",
   "nbconvert_exporter": "python",
   "pygments_lexer": "ipython3",
   "version": "3.6.2"
  }
 },
 "nbformat": 4,
 "nbformat_minor": 2
}
